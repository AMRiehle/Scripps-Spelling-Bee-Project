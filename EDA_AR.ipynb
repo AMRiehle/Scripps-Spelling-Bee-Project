{
 "cells": [
  {
   "cell_type": "markdown",
   "metadata": {},
   "source": [
    "# Spelling Errors at the Scripps National Spelling Bee"
   ]
  },
  {
   "cell_type": "markdown",
   "metadata": {},
   "source": [
    "## Objective\n",
    "\n",
    "To predict whether a selected word will result in a spelling error at the Scripps National Spelling Bee based on 1996-2017 spelling bee data"
   ]
  },
  {
   "cell_type": "markdown",
   "metadata": {},
   "source": [
    "## Data Sources\n",
    "\n",
    "I collected data from the following sources:\n",
    "\n",
    "**Primary Data Set:** https://github.com/octonion/spelling\n",
    "\n",
    "**Data for Missing Years:** \n",
    "- https://secure.spellingbee.com/public/results/2012/round_results\n",
    "- https://secure.spellingbee.com/public/results/2013/round_results\n",
    "- https://secure.spellingbee.com/public/results/2014/round_results\n",
    "\n",
    "**Etymological, Part of Speech, and Syllabification Data:** https://www.merriam-webster.com/\n",
    "\n",
    "**Additional Etymological Data:** http://www.etymonline.com/"
   ]
  },
  {
   "cell_type": "markdown",
   "metadata": {},
   "source": [
    "## Import Libraries and Read In Data"
   ]
  },
  {
   "cell_type": "code",
   "execution_count": 2,
   "metadata": {
    "collapsed": true
   },
   "outputs": [],
   "source": [
    "#General Imports\n",
    "import pandas as pd\n",
    "import numpy as np\n",
    "from sklearn import metrics\n",
    "import matplotlib.pyplot as plt\n",
    "%matplotlib inline\n",
    "import seaborn as sns\n",
    "from scipy.stats import chi2_contingency"
   ]
  },
  {
   "cell_type": "code",
   "execution_count": 3,
   "metadata": {
    "collapsed": false
   },
   "outputs": [],
   "source": [
    "#Read In Data\n",
    "data = pd.read_csv('Data_AR.csv')\n",
    "data.drop([col for col in data.columns if \"Unnamed\" in col], axis=1, inplace=True)"
   ]
  },
  {
   "cell_type": "markdown",
   "metadata": {},
   "source": [
    "## General Overview of Data"
   ]
  },
  {
   "cell_type": "code",
   "execution_count": 3,
   "metadata": {
    "collapsed": false
   },
   "outputs": [
    {
     "data": {
      "text/plain": [
       "(10844, 9)"
      ]
     },
     "execution_count": 3,
     "metadata": {},
     "output_type": "execute_result"
    }
   ],
   "source": [
    "data.shape"
   ]
  },
  {
   "cell_type": "code",
   "execution_count": 4,
   "metadata": {
    "collapsed": false
   },
   "outputs": [
    {
     "data": {
      "text/plain": [
       "Word                      object\n",
       "Num_Syllables              int64\n",
       "Part_of_Speech            object\n",
       "Language                  object\n",
       "Year                       int64\n",
       "Round                      int64\n",
       "Times_Used                 int64\n",
       "Years_Since_Last_Used    float64\n",
       "Error                      int64\n",
       "dtype: object"
      ]
     },
     "execution_count": 4,
     "metadata": {},
     "output_type": "execute_result"
    }
   ],
   "source": [
    "data.dtypes"
   ]
  },
  {
   "cell_type": "code",
   "execution_count": 4,
   "metadata": {
    "collapsed": false
   },
   "outputs": [
    {
     "data": {
      "text/html": [
       "<div>\n",
       "<table border=\"1\" class=\"dataframe\">\n",
       "  <thead>\n",
       "    <tr style=\"text-align: right;\">\n",
       "      <th></th>\n",
       "      <th>Word</th>\n",
       "      <th>Num_Syllables</th>\n",
       "      <th>Part_of_Speech</th>\n",
       "      <th>Language</th>\n",
       "      <th>Year</th>\n",
       "      <th>Round</th>\n",
       "      <th>Times_Used</th>\n",
       "      <th>Years_Since_Last_Used</th>\n",
       "      <th>Error</th>\n",
       "    </tr>\n",
       "  </thead>\n",
       "  <tbody>\n",
       "    <tr>\n",
       "      <th>0</th>\n",
       "      <td>rapprochement</td>\n",
       "      <td>3</td>\n",
       "      <td>noun</td>\n",
       "      <td>French</td>\n",
       "      <td>2006</td>\n",
       "      <td>2</td>\n",
       "      <td>2</td>\n",
       "      <td>5.0</td>\n",
       "      <td>1</td>\n",
       "    </tr>\n",
       "    <tr>\n",
       "      <th>1</th>\n",
       "      <td>jicara</td>\n",
       "      <td>3</td>\n",
       "      <td>noun</td>\n",
       "      <td>Spanish</td>\n",
       "      <td>2006</td>\n",
       "      <td>2</td>\n",
       "      <td>2</td>\n",
       "      <td>3.0</td>\n",
       "      <td>0</td>\n",
       "    </tr>\n",
       "    <tr>\n",
       "      <th>2</th>\n",
       "      <td>pasticcio</td>\n",
       "      <td>3</td>\n",
       "      <td>noun</td>\n",
       "      <td>Italian</td>\n",
       "      <td>2006</td>\n",
       "      <td>2</td>\n",
       "      <td>2</td>\n",
       "      <td>3.0</td>\n",
       "      <td>0</td>\n",
       "    </tr>\n",
       "    <tr>\n",
       "      <th>3</th>\n",
       "      <td>retinue</td>\n",
       "      <td>3</td>\n",
       "      <td>noun</td>\n",
       "      <td>Middle English</td>\n",
       "      <td>2006</td>\n",
       "      <td>3</td>\n",
       "      <td>2</td>\n",
       "      <td>8.0</td>\n",
       "      <td>1</td>\n",
       "    </tr>\n",
       "    <tr>\n",
       "      <th>4</th>\n",
       "      <td>purslane</td>\n",
       "      <td>2</td>\n",
       "      <td>noun</td>\n",
       "      <td>Middle English</td>\n",
       "      <td>2008</td>\n",
       "      <td>4</td>\n",
       "      <td>2</td>\n",
       "      <td>8.0</td>\n",
       "      <td>0</td>\n",
       "    </tr>\n",
       "  </tbody>\n",
       "</table>\n",
       "</div>"
      ],
      "text/plain": [
       "            Word  Num_Syllables Part_of_Speech        Language  Year  Round  \\\n",
       "0  rapprochement              3           noun          French  2006      2   \n",
       "1         jicara              3           noun         Spanish  2006      2   \n",
       "2      pasticcio              3           noun         Italian  2006      2   \n",
       "3        retinue              3           noun  Middle English  2006      3   \n",
       "4       purslane              2           noun  Middle English  2008      4   \n",
       "\n",
       "   Times_Used  Years_Since_Last_Used  Error  \n",
       "0           2                    5.0      1  \n",
       "1           2                    3.0      0  \n",
       "2           2                    3.0      0  \n",
       "3           2                    8.0      1  \n",
       "4           2                    8.0      0  "
      ]
     },
     "execution_count": 4,
     "metadata": {},
     "output_type": "execute_result"
    }
   ],
   "source": [
    "data.head()"
   ]
  },
  {
   "cell_type": "code",
   "execution_count": 9,
   "metadata": {
    "collapsed": false
   },
   "outputs": [
    {
     "data": {
      "text/plain": [
       "<matplotlib.axes._subplots.AxesSubplot at 0x11b3d87d0>"
      ]
     },
     "execution_count": 9,
     "metadata": {},
     "output_type": "execute_result"
    },
    {
     "data": {
      "image/png": "[encoded data removed]",
      "text/plain": [
       "<matplotlib.figure.Figure at 0x11b70c790>"
      ]
     },
     "metadata": {},
     "output_type": "display_data"
    }
   ],
   "source": [
    "data.Error.hist(bins=[0,1,2])"
   ]
  },
  {
   "cell_type": "code",
   "execution_count": 19,
   "metadata": {
    "collapsed": false
   },
   "outputs": [
    {
     "data": {
      "text/html": [
       "<div>\n",
       "<table border=\"1\" class=\"dataframe\">\n",
       "  <thead>\n",
       "    <tr style=\"text-align: right;\">\n",
       "      <th></th>\n",
       "      <th>Single_Redup</th>\n",
       "      <th>Double_Redup</th>\n",
       "      <th>Triple_Redup</th>\n",
       "      <th>Quad_Redup</th>\n",
       "      <th>Num_Syllables</th>\n",
       "      <th>Year</th>\n",
       "      <th>Round</th>\n",
       "      <th>Times_Used</th>\n",
       "      <th>Years_Since_Last_Used</th>\n",
       "      <th>Error</th>\n",
       "    </tr>\n",
       "  </thead>\n",
       "  <tbody>\n",
       "    <tr>\n",
       "      <th>Single_Redup</th>\n",
       "      <td>1.000000</td>\n",
       "      <td>-0.003688</td>\n",
       "      <td>-0.003336</td>\n",
       "      <td>0.012852</td>\n",
       "      <td>-0.015670</td>\n",
       "      <td>0.016229</td>\n",
       "      <td>0.026725</td>\n",
       "      <td>0.029995</td>\n",
       "      <td>0.010910</td>\n",
       "      <td>0.023164</td>\n",
       "    </tr>\n",
       "    <tr>\n",
       "      <th>Double_Redup</th>\n",
       "      <td>-0.003688</td>\n",
       "      <td>1.000000</td>\n",
       "      <td>-0.007067</td>\n",
       "      <td>-0.003748</td>\n",
       "      <td>0.042702</td>\n",
       "      <td>0.016311</td>\n",
       "      <td>0.012175</td>\n",
       "      <td>0.010030</td>\n",
       "      <td>0.013725</td>\n",
       "      <td>0.006799</td>\n",
       "    </tr>\n",
       "    <tr>\n",
       "      <th>Triple_Redup</th>\n",
       "      <td>-0.003336</td>\n",
       "      <td>-0.007067</td>\n",
       "      <td>1.000000</td>\n",
       "      <td>-0.001914</td>\n",
       "      <td>0.021602</td>\n",
       "      <td>0.003546</td>\n",
       "      <td>-0.005826</td>\n",
       "      <td>0.006015</td>\n",
       "      <td>0.007903</td>\n",
       "      <td>0.018361</td>\n",
       "    </tr>\n",
       "    <tr>\n",
       "      <th>Quad_Redup</th>\n",
       "      <td>0.012852</td>\n",
       "      <td>-0.003748</td>\n",
       "      <td>-0.001914</td>\n",
       "      <td>1.000000</td>\n",
       "      <td>0.024240</td>\n",
       "      <td>0.016117</td>\n",
       "      <td>-0.009646</td>\n",
       "      <td>0.000658</td>\n",
       "      <td>-0.013162</td>\n",
       "      <td>-0.018493</td>\n",
       "    </tr>\n",
       "    <tr>\n",
       "      <th>Num_Syllables</th>\n",
       "      <td>-0.015670</td>\n",
       "      <td>0.042702</td>\n",
       "      <td>0.021602</td>\n",
       "      <td>0.024240</td>\n",
       "      <td>1.000000</td>\n",
       "      <td>-0.051258</td>\n",
       "      <td>0.005539</td>\n",
       "      <td>-0.024411</td>\n",
       "      <td>0.024742</td>\n",
       "      <td>0.028150</td>\n",
       "    </tr>\n",
       "    <tr>\n",
       "      <th>Year</th>\n",
       "      <td>0.016229</td>\n",
       "      <td>0.016311</td>\n",
       "      <td>0.003546</td>\n",
       "      <td>0.016117</td>\n",
       "      <td>-0.051258</td>\n",
       "      <td>1.000000</td>\n",
       "      <td>0.126289</td>\n",
       "      <td>0.393536</td>\n",
       "      <td>0.394754</td>\n",
       "      <td>-0.174374</td>\n",
       "    </tr>\n",
       "    <tr>\n",
       "      <th>Round</th>\n",
       "      <td>0.026725</td>\n",
       "      <td>0.012175</td>\n",
       "      <td>-0.005826</td>\n",
       "      <td>-0.009646</td>\n",
       "      <td>0.005539</td>\n",
       "      <td>0.126289</td>\n",
       "      <td>1.000000</td>\n",
       "      <td>-0.126610</td>\n",
       "      <td>-0.057300</td>\n",
       "      <td>0.034961</td>\n",
       "    </tr>\n",
       "    <tr>\n",
       "      <th>Times_Used</th>\n",
       "      <td>0.029995</td>\n",
       "      <td>0.010030</td>\n",
       "      <td>0.006015</td>\n",
       "      <td>0.000658</td>\n",
       "      <td>-0.024411</td>\n",
       "      <td>0.393536</td>\n",
       "      <td>-0.126610</td>\n",
       "      <td>1.000000</td>\n",
       "      <td>0.408115</td>\n",
       "      <td>-0.105268</td>\n",
       "    </tr>\n",
       "    <tr>\n",
       "      <th>Years_Since_Last_Used</th>\n",
       "      <td>0.010910</td>\n",
       "      <td>0.013725</td>\n",
       "      <td>0.007903</td>\n",
       "      <td>-0.013162</td>\n",
       "      <td>0.024742</td>\n",
       "      <td>0.394754</td>\n",
       "      <td>-0.057300</td>\n",
       "      <td>0.408115</td>\n",
       "      <td>1.000000</td>\n",
       "      <td>-0.074916</td>\n",
       "    </tr>\n",
       "    <tr>\n",
       "      <th>Error</th>\n",
       "      <td>0.023164</td>\n",
       "      <td>0.006799</td>\n",
       "      <td>0.018361</td>\n",
       "      <td>-0.018493</td>\n",
       "      <td>0.028150</td>\n",
       "      <td>-0.174374</td>\n",
       "      <td>0.034961</td>\n",
       "      <td>-0.105268</td>\n",
       "      <td>-0.074916</td>\n",
       "      <td>1.000000</td>\n",
       "    </tr>\n",
       "  </tbody>\n",
       "</table>\n",
       "</div>"
      ],
      "text/plain": [
       "                       Single_Redup  Double_Redup  Triple_Redup  Quad_Redup  \\\n",
       "Single_Redup               1.000000     -0.003688     -0.003336    0.012852   \n",
       "Double_Redup              -0.003688      1.000000     -0.007067   -0.003748   \n",
       "Triple_Redup              -0.003336     -0.007067      1.000000   -0.001914   \n",
       "Quad_Redup                 0.012852     -0.003748     -0.001914    1.000000   \n",
       "Num_Syllables             -0.015670      0.042702      0.021602    0.024240   \n",
       "Year                       0.016229      0.016311      0.003546    0.016117   \n",
       "Round                      0.026725      0.012175     -0.005826   -0.009646   \n",
       "Times_Used                 0.029995      0.010030      0.006015    0.000658   \n",
       "Years_Since_Last_Used      0.010910      0.013725      0.007903   -0.013162   \n",
       "Error                      0.023164      0.006799      0.018361   -0.018493   \n",
       "\n",
       "                       Num_Syllables      Year     Round  Times_Used  \\\n",
       "Single_Redup               -0.015670  0.016229  0.026725    0.029995   \n",
       "Double_Redup                0.042702  0.016311  0.012175    0.010030   \n",
       "Triple_Redup                0.021602  0.003546 -0.005826    0.006015   \n",
       "Quad_Redup                  0.024240  0.016117 -0.009646    0.000658   \n",
       "Num_Syllables               1.000000 -0.051258  0.005539   -0.024411   \n",
       "Year                       -0.051258  1.000000  0.126289    0.393536   \n",
       "Round                       0.005539  0.126289  1.000000   -0.126610   \n",
       "Times_Used                 -0.024411  0.393536 -0.126610    1.000000   \n",
       "Years_Since_Last_Used       0.024742  0.394754 -0.057300    0.408115   \n",
       "Error                       0.028150 -0.174374  0.034961   -0.105268   \n",
       "\n",
       "                       Years_Since_Last_Used     Error  \n",
       "Single_Redup                        0.010910  0.023164  \n",
       "Double_Redup                        0.013725  0.006799  \n",
       "Triple_Redup                        0.007903  0.018361  \n",
       "Quad_Redup                         -0.013162 -0.018493  \n",
       "Num_Syllables                       0.024742  0.028150  \n",
       "Year                                0.394754 -0.174374  \n",
       "Round                              -0.057300  0.034961  \n",
       "Times_Used                          0.408115 -0.105268  \n",
       "Years_Since_Last_Used               1.000000 -0.074916  \n",
       "Error                              -0.074916  1.000000  "
      ]
     },
     "execution_count": 19,
     "metadata": {},
     "output_type": "execute_result"
    }
   ],
   "source": [
    "data.corr()"
   ]
  },
  {
   "cell_type": "markdown",
   "metadata": {},
   "source": [
    "## Create Dummy Variables"
   ]
  },
  {
   "cell_type": "code",
   "execution_count": 23,
   "metadata": {
    "collapsed": false
   },
   "outputs": [],
   "source": [
    "#Create Part of Speech Dummy Variables\n",
    "pos_dum = pd.get_dummies(data.Part_of_Speech, prefix='pos')\n",
    "\n",
    "pos_dum.drop('pos_noun', axis=1, inplace=True)\n",
    "\n",
    "data = pd.concat([data, pos_dum], axis=1)"
   ]
  },
  {
   "cell_type": "code",
   "execution_count": 24,
   "metadata": {
    "collapsed": false
   },
   "outputs": [],
   "source": [
    "#Create Language Dummy Variables\n",
    "lang_dum = pd.get_dummies(data.Language, prefix='lang')\n",
    "\n",
    "lang_dum.drop('lang_Latin', axis=1, inplace=True)\n",
    "\n",
    "data = pd.concat([data, lang_dum], axis=1)"
   ]
  },
  {
   "cell_type": "markdown",
   "metadata": {},
   "source": [
    "## Feature Selection\n",
    "\n",
    "Originally Selected Features:\n",
    "- Word Length\n",
    "- Number of Syllables\n",
    "- Part of Speech\n",
    "- Levels of Origin\n",
    "- Times Word Was Used\n",
    "- Years Since Word Was Last Used\n",
    "- Year\n",
    "- Round\n",
    "\n",
    "**Adjustments:**\n",
    "- Select one of Word Length and Number of Syllables to avoid collinearity\n",
    "- Condense Levels of Origin into single Language feature"
   ]
  },
  {
   "cell_type": "markdown",
   "metadata": {},
   "source": [
    "## Feature Exploration"
   ]
  },
  {
   "cell_type": "markdown",
   "metadata": {},
   "source": [
    "### Number of Syllables"
   ]
  },
  {
   "cell_type": "code",
   "execution_count": 32,
   "metadata": {
    "collapsed": false
   },
   "outputs": [
    {
     "data": {
      "text/plain": [
       "count    10844.000000\n",
       "mean         3.093231\n",
       "std          0.953050\n",
       "min          1.000000\n",
       "25%          2.000000\n",
       "50%          3.000000\n",
       "75%          4.000000\n",
       "max          8.000000\n",
       "Name: Num_Syllables, dtype: float64"
      ]
     },
     "execution_count": 32,
     "metadata": {},
     "output_type": "execute_result"
    }
   ],
   "source": [
    "data.Num_Syllables.describe()"
   ]
  },
  {
   "cell_type": "code",
   "execution_count": 33,
   "metadata": {
    "collapsed": false
   },
   "outputs": [
    {
     "data": {
      "text/plain": [
       "(array([  1.94000000e+02,   2.87100000e+03,   4.39000000e+03,\n",
       "          2.62300000e+03,   6.66000000e+02,   8.70000000e+01,\n",
       "          1.10000000e+01,   2.00000000e+00]),\n",
       " array([1, 2, 3, 4, 5, 6, 7, 8, 9]),\n",
       " <a list of 8 Patch objects>)"
      ]
     },
     "execution_count": 33,
     "metadata": {},
     "output_type": "execute_result"
    },
    {
     "data": {
      "image/png": "[encoded data removed]",
      "text/plain": [
       "<matplotlib.figure.Figure at 0x11b13f650>"
      ]
     },
     "metadata": {},
     "output_type": "display_data"
    }
   ],
   "source": [
    "plt.hist(data.Num_Syllables, bins=[1,2,3,4,5,6,7,8,9])"
   ]
  },
  {
   "cell_type": "markdown",
   "metadata": {},
   "source": [
    "### Part of Speech"
   ]
  },
  {
   "cell_type": "code",
   "execution_count": 35,
   "metadata": {
    "collapsed": false
   },
   "outputs": [
    {
     "data": {
      "text/plain": [
       "<matplotlib.axes._subplots.AxesSubplot at 0x11b2a3d50>"
      ]
     },
     "execution_count": 35,
     "metadata": {},
     "output_type": "execute_result"
    },
    {
     "data": {
      "image/png": "[encoded data removed]",
      "text/plain": [
       "<matplotlib.figure.Figure at 0x11b13f710>"
      ]
     },
     "metadata": {},
     "output_type": "display_data"
    }
   ],
   "source": [
    "POS = data.Part_of_Speech.value_counts()\n",
    "POS.plot.bar()"
   ]
  },
  {
   "cell_type": "code",
   "execution_count": 36,
   "metadata": {
    "collapsed": false
   },
   "outputs": [
    {
     "data": {
      "text/plain": [
       "noun            7858\n",
       "adjective       2438\n",
       "verb             454\n",
       "adverb            75\n",
       "interjection      12\n",
       "preposition        5\n",
       "conjunction        2\n",
       "Name: Part_of_Speech, dtype: int64"
      ]
     },
     "execution_count": 36,
     "metadata": {},
     "output_type": "execute_result"
    }
   ],
   "source": [
    "data.Part_of_Speech.value_counts()"
   ]
  },
  {
   "cell_type": "code",
   "execution_count": 105,
   "metadata": {
    "collapsed": false
   },
   "outputs": [
    {
     "data": {
      "text/plain": [
       "(9.7586721479508949,\n",
       " 0.13518967787273842,\n",
       " 6,\n",
       " array([[  1.82377868e+03,   6.14221321e+02],\n",
       "        [  5.61047584e+01,   1.88952416e+01],\n",
       "        [  1.49612689e+00,   5.03873110e-01],\n",
       "        [  8.97676134e+00,   3.02323866e+00],\n",
       "        [  5.87828255e+03,   1.97971745e+03],\n",
       "        [  3.74031723e+00,   1.25968277e+00],\n",
       "        [  3.39620804e+02,   1.14379196e+02]]))"
      ]
     },
     "execution_count": 105,
     "metadata": {},
     "output_type": "execute_result"
    }
   ],
   "source": [
    "chi2_contingency(pd.crosstab(data.Part_of_Speech, data.Error))"
   ]
  },
  {
   "cell_type": "markdown",
   "metadata": {},
   "source": [
    "### Language"
   ]
  },
  {
   "cell_type": "code",
   "execution_count": 35,
   "metadata": {
    "collapsed": false
   },
   "outputs": [
    {
     "data": {
      "text/plain": [
       "(49,)"
      ]
     },
     "execution_count": 35,
     "metadata": {},
     "output_type": "execute_result"
    }
   ],
   "source": [
    "data.Language.value_counts().shape"
   ]
  },
  {
   "cell_type": "code",
   "execution_count": 31,
   "metadata": {
    "collapsed": false
   },
   "outputs": [
    {
     "data": {
      "text/plain": [
       "<matplotlib.axes._subplots.AxesSubplot at 0x1175a3310>"
      ]
     },
     "execution_count": 31,
     "metadata": {},
     "output_type": "execute_result"
    },
    {
     "data": {
      "image/png": "[encoded data removed]",
      "text/plain": [
       "<matplotlib.figure.Figure at 0x11af741d0>"
      ]
     },
     "metadata": {},
     "output_type": "display_data"
    }
   ],
   "source": [
    "Language_Data = data.groupby(\"Language\").filter(lambda x: len(x) >= 350)\n",
    "LD = Language_Data.Language.value_counts()\n",
    "LD.plot.bar()"
   ]
  },
  {
   "cell_type": "code",
   "execution_count": 29,
   "metadata": {
    "collapsed": false
   },
   "outputs": [
    {
     "data": {
      "text/plain": [
       "Latin                                  3583\n",
       "French                                 2088\n",
       "Middle English                         1450\n",
       "Greek                                   777\n",
       "Italian                                 518\n",
       "German                                  490\n",
       "Spanish                                 351\n",
       "Unknown                                 215\n",
       "International Scientific Vocabulary     212\n",
       "Germanic (Other)                        176\n",
       "Japanese                                145\n",
       "Russian                                 125\n",
       "Arabic                                   86\n",
       "Hindi                                    75\n",
       "Sanskrit                                 64\n",
       "Proper Name                              63\n",
       "Portuguese                               56\n",
       "Austronesian                             50\n",
       "Celtic                                   40\n",
       "Hawaiian                                 39\n",
       "Hebrew                                   34\n",
       "Balto-Slavic                             30\n",
       "Sino-Tibetan                             24\n",
       "Algonquian                               24\n",
       "Atlantic-Congo                           19\n",
       "Romance (Other)                          18\n",
       "Persian                                  17\n",
       "Turkic                                   10\n",
       "Semitic                                   9\n",
       "Indo-Iranian                              8\n",
       "Afro-Asiatic                              6\n",
       "Dravidian                                 6\n",
       "Pama-Nyungan                              5\n",
       "Eskimo-Aleut                              4\n",
       "Uto-Aztecan                               4\n",
       "Salishan                                  3\n",
       "Nyungic                                   3\n",
       "Uralic                                    3\n",
       "Cariban                                   2\n",
       "Mayan                                     2\n",
       "Tupian                                    2\n",
       "Goroka                                    1\n",
       "Chinookan                                 1\n",
       "Basque                                    1\n",
       "Wakashan                                  1\n",
       "Papuan                                    1\n",
       "Athabaskan                                1\n",
       "Ge                                        1\n",
       "Armenian                                  1\n",
       "Name: Language, dtype: int64"
      ]
     },
     "execution_count": 29,
     "metadata": {},
     "output_type": "execute_result"
    }
   ],
   "source": [
    "data.Language.value_counts()"
   ]
  },
  {
   "cell_type": "code",
   "execution_count": 104,
   "metadata": {
    "collapsed": false
   },
   "outputs": [
    {
     "data": {
      "text/plain": [
       "(82.188908031552614,\n",
       " 0.0015458029718039075,\n",
       " 48,\n",
       " array([[  4.48838067e+00,   1.51161933e+00],\n",
       "        [  1.79535227e+01,   6.04647731e+00],\n",
       "        [  6.43334563e+01,   2.16665437e+01],\n",
       "        [  7.48063445e-01,   2.51936555e-01],\n",
       "        [  7.48063445e-01,   2.51936555e-01],\n",
       "        [  1.42132055e+01,   4.78679454e+00],\n",
       "        [  3.74031723e+01,   1.25968277e+01],\n",
       "        [  2.24419034e+01,   7.55809664e+00],\n",
       "        [  7.48063445e-01,   2.51936555e-01],\n",
       "        [  1.49612689e+00,   5.03873110e-01],\n",
       "        [  2.99225378e+01,   1.00774622e+01],\n",
       "        [  7.48063445e-01,   2.51936555e-01],\n",
       "        [  4.48838067e+00,   1.51161933e+00],\n",
       "        [  2.99225378e+00,   1.00774622e+00],\n",
       "        [  1.56195647e+03,   5.26043526e+02],\n",
       "        [  7.48063445e-01,   2.51936555e-01],\n",
       "        [  3.66551088e+02,   1.23448912e+02],\n",
       "        [  1.31659166e+02,   4.43408336e+01],\n",
       "        [  7.48063445e-01,   2.51936555e-01],\n",
       "        [  5.81245297e+02,   1.95754703e+02],\n",
       "        [  2.91744744e+01,   9.82552564e+00],\n",
       "        [  2.54341571e+01,   8.56584286e+00],\n",
       "        [  5.61047584e+01,   1.88952416e+01],\n",
       "        [  5.98450756e+00,   2.01549244e+00],\n",
       "        [  1.58589450e+02,   5.34105496e+01],\n",
       "        [  3.87496865e+02,   1.30503135e+02],\n",
       "        [  1.08469200e+02,   3.65308004e+01],\n",
       "        [  2.68031132e+03,   9.02688676e+02],\n",
       "        [  1.49612689e+00,   5.03873110e-01],\n",
       "        [  1.08469200e+03,   3.65308004e+02],\n",
       "        [  2.24419034e+00,   7.55809664e-01],\n",
       "        [  3.74031723e+00,   1.25968277e+00],\n",
       "        [  7.48063445e-01,   2.51936555e-01],\n",
       "        [  1.27170786e+01,   4.28292143e+00],\n",
       "        [  4.18915529e+01,   1.41084471e+01],\n",
       "        [  4.71279970e+01,   1.58720030e+01],\n",
       "        [  1.34651420e+01,   4.53485799e+00],\n",
       "        [  9.35079307e+01,   3.14920693e+01],\n",
       "        [  2.24419034e+00,   7.55809664e-01],\n",
       "        [  4.78760605e+01,   1.61239395e+01],\n",
       "        [  6.73257101e+00,   2.26742899e+00],\n",
       "        [  1.79535227e+01,   6.04647731e+00],\n",
       "        [  2.62570269e+02,   8.84297307e+01],\n",
       "        [  1.49612689e+00,   5.03873110e-01],\n",
       "        [  7.48063445e+00,   2.51936555e+00],\n",
       "        [  1.60833641e+02,   5.41663593e+01],\n",
       "        [  2.24419034e+00,   7.55809664e-01],\n",
       "        [  2.99225378e+00,   1.00774622e+00],\n",
       "        [  7.48063445e-01,   2.51936555e-01]]))"
      ]
     },
     "execution_count": 104,
     "metadata": {},
     "output_type": "execute_result"
    }
   ],
   "source": [
    "chi2_contingency(pd.crosstab(data.Language, data.Error))"
   ]
  },
  {
   "cell_type": "markdown",
   "metadata": {},
   "source": [
    "### Times Used"
   ]
  },
  {
   "cell_type": "code",
   "execution_count": 5,
   "metadata": {
    "collapsed": false
   },
   "outputs": [
    {
     "data": {
      "text/plain": [
       "<matplotlib.axes._subplots.AxesSubplot at 0x11df60a10>"
      ]
     },
     "execution_count": 5,
     "metadata": {},
     "output_type": "execute_result"
    },
    {
     "data": {
      "image/png": "[encoded data removed]",
      "text/plain": [
       "<matplotlib.figure.Figure at 0x11df60310>"
      ]
     },
     "metadata": {},
     "output_type": "display_data"
    }
   ],
   "source": [
    "Times_Used_Data = data.groupby('Word').apply(lambda x: x[x.Times_Used==x.Times_Used.max()])\n",
    "Times_Used_Data.Times_Used.hist(bins=[1,2,3,4,5,6,7,8])"
   ]
  },
  {
   "cell_type": "code",
   "execution_count": 58,
   "metadata": {
    "collapsed": false
   },
   "outputs": [
    {
     "data": {
      "text/plain": [
       "1    4305\n",
       "2    1620\n",
       "3     548\n",
       "4     170\n",
       "5      81\n",
       "6      58\n",
       "7      24\n",
       "8       7\n",
       "Name: Times_Used, dtype: int64"
      ]
     },
     "execution_count": 58,
     "metadata": {},
     "output_type": "execute_result"
    }
   ],
   "source": [
    "Times_Used_Data.Times_Used.value_counts()"
   ]
  },
  {
   "cell_type": "code",
   "execution_count": 6,
   "metadata": {
    "collapsed": false
   },
   "outputs": [
    {
     "data": {
      "text/plain": [
       "2.4349893460272338"
      ]
     },
     "execution_count": 6,
     "metadata": {},
     "output_type": "execute_result"
    }
   ],
   "source": [
    "Times_Used_Data.Times_Used.skew()"
   ]
  },
  {
   "cell_type": "markdown",
   "metadata": {},
   "source": [
    "### Years Since Last Used"
   ]
  },
  {
   "cell_type": "code",
   "execution_count": 67,
   "metadata": {
    "collapsed": false
   },
   "outputs": [
    {
     "data": {
      "text/plain": [
       "<matplotlib.axes._subplots.AxesSubplot at 0x12074c390>"
      ]
     },
     "execution_count": 67,
     "metadata": {},
     "output_type": "execute_result"
    },
    {
     "data": {
      "image/png": "[encoded data removed]",
      "text/plain": [
       "<matplotlib.figure.Figure at 0x11d575e90>"
      ]
     },
     "metadata": {},
     "output_type": "display_data"
    }
   ],
   "source": [
    "data.Years_Since_Last_Used.hist(bins=range(1,22))"
   ]
  },
  {
   "cell_type": "code",
   "execution_count": 71,
   "metadata": {
    "collapsed": false
   },
   "outputs": [
    {
     "data": {
      "text/plain": [
       "1.0     652\n",
       "3.0     538\n",
       "4.0     412\n",
       "5.0     366\n",
       "6.0     304\n",
       "7.0     257\n",
       "8.0     243\n",
       "2.0     181\n",
       "9.0     174\n",
       "10.0    162\n",
       "11.0    149\n",
       "12.0    132\n",
       "13.0    122\n",
       "15.0     79\n",
       "14.0     76\n",
       "16.0     53\n",
       "17.0     41\n",
       "18.0     38\n",
       "19.0     29\n",
       "20.0     24\n",
       "21.0      5\n",
       "Name: Years_Since_Last_Used, dtype: int64"
      ]
     },
     "execution_count": 71,
     "metadata": {},
     "output_type": "execute_result"
    }
   ],
   "source": [
    "data[data.Years_Since_Last_Used > 0].Years_Since_Last_Used.value_counts()"
   ]
  },
  {
   "cell_type": "code",
   "execution_count": 7,
   "metadata": {
    "collapsed": false
   },
   "outputs": [
    {
     "data": {
      "text/plain": [
       "1.9828225228935494"
      ]
     },
     "execution_count": 7,
     "metadata": {},
     "output_type": "execute_result"
    }
   ],
   "source": [
    "data.Years_Since_Last_Used.skew()"
   ]
  },
  {
   "cell_type": "markdown",
   "metadata": {},
   "source": [
    "### Round"
   ]
  },
  {
   "cell_type": "code",
   "execution_count": 99,
   "metadata": {
    "collapsed": false
   },
   "outputs": [
    {
     "data": {
      "text/plain": [
       "count    32.000000\n",
       "mean     16.187500\n",
       "std       6.869463\n",
       "min       8.000000\n",
       "25%      12.000000\n",
       "50%      15.000000\n",
       "75%      19.000000\n",
       "max      39.000000\n",
       "Name: Round, dtype: float64"
      ]
     },
     "execution_count": 99,
     "metadata": {},
     "output_type": "execute_result"
    }
   ],
   "source": [
    "Last_Round = data.groupby('Year').apply(lambda x: x[x.Round==x.Round.max()])\n",
    "Last_Round.Round.describe()"
   ]
  },
  {
   "cell_type": "code",
   "execution_count": 9,
   "metadata": {
    "collapsed": false,
    "scrolled": true
   },
   "outputs": [
    {
     "data": {
      "text/plain": [
       "1     1302\n",
       "2     3606\n",
       "3     2786\n",
       "4     1056\n",
       "5      701\n",
       "6      454\n",
       "7      232\n",
       "8      157\n",
       "9      116\n",
       "10      85\n",
       "11      69\n",
       "12      51\n",
       "13      36\n",
       "14      36\n",
       "15      27\n",
       "16      18\n",
       "17      17\n",
       "18      14\n",
       "19      14\n",
       "20      10\n",
       "21       7\n",
       "22       7\n",
       "23       5\n",
       "24       2\n",
       "25       4\n",
       "26       2\n",
       "27       3\n",
       "28       3\n",
       "29       2\n",
       "30       4\n",
       "31       4\n",
       "32       2\n",
       "33       1\n",
       "34       3\n",
       "35       2\n",
       "36       1\n",
       "37       2\n",
       "38       2\n",
       "39       1\n",
       "Name: Round, dtype: int64"
      ]
     },
     "execution_count": 9,
     "metadata": {},
     "output_type": "execute_result"
    }
   ],
   "source": [
    "data.Round.value_counts().sort_index()"
   ]
  },
  {
   "cell_type": "code",
   "execution_count": 93,
   "metadata": {
    "collapsed": false
   },
   "outputs": [
    {
     "data": {
      "text/plain": [
       "array([[<matplotlib.axes._subplots.AxesSubplot object at 0x155fda0d0>,\n",
       "        <matplotlib.axes._subplots.AxesSubplot object at 0x156034bd0>,\n",
       "        <matplotlib.axes._subplots.AxesSubplot object at 0x1562293d0>,\n",
       "        <matplotlib.axes._subplots.AxesSubplot object at 0x15628c6d0>],\n",
       "       [<matplotlib.axes._subplots.AxesSubplot object at 0x156314810>,\n",
       "        <matplotlib.axes._subplots.AxesSubplot object at 0x156385290>,\n",
       "        <matplotlib.axes._subplots.AxesSubplot object at 0x15640c590>,\n",
       "        <matplotlib.axes._subplots.AxesSubplot object at 0x156472f10>],\n",
       "       [<matplotlib.axes._subplots.AxesSubplot object at 0x156503150>,\n",
       "        <matplotlib.axes._subplots.AxesSubplot object at 0x15655ec90>,\n",
       "        <matplotlib.axes._subplots.AxesSubplot object at 0x1565fa250>,\n",
       "        <matplotlib.axes._subplots.AxesSubplot object at 0x1565afa50>],\n",
       "       [<matplotlib.axes._subplots.AxesSubplot object at 0x1566f3090>,\n",
       "        <matplotlib.axes._subplots.AxesSubplot object at 0x15676afd0>,\n",
       "        <matplotlib.axes._subplots.AxesSubplot object at 0x1567dcdd0>,\n",
       "        <matplotlib.axes._subplots.AxesSubplot object at 0x156863e50>],\n",
       "       [<matplotlib.axes._subplots.AxesSubplot object at 0x1568d7710>,\n",
       "        <matplotlib.axes._subplots.AxesSubplot object at 0x15695d850>,\n",
       "        <matplotlib.axes._subplots.AxesSubplot object at 0x1569d2050>,\n",
       "        <matplotlib.axes._subplots.AxesSubplot object at 0x156a57310>]], dtype=object)"
      ]
     },
     "execution_count": 93,
     "metadata": {},
     "output_type": "execute_result"
    },
    {
     "data": {
      "image/png": "[encoded data removed]",
      "text/plain": [
       "<matplotlib.figure.Figure at 0x15604e610>"
      ]
     },
     "metadata": {},
     "output_type": "display_data"
    }
   ],
   "source": [
    "data[data.Round < 20].hist(by='Round', column='Error', bins=[0,1,2])"
   ]
  },
  {
   "cell_type": "markdown",
   "metadata": {},
   "source": [
    "## Final Correlation Matrices"
   ]
  },
  {
   "cell_type": "code",
   "execution_count": 25,
   "metadata": {
    "collapsed": false
   },
   "outputs": [
    {
     "data": {
      "text/html": [
       "<div>\n",
       "<table border=\"1\" class=\"dataframe\">\n",
       "  <thead>\n",
       "    <tr style=\"text-align: right;\">\n",
       "      <th></th>\n",
       "      <th>Single_Redup</th>\n",
       "      <th>Double_Redup</th>\n",
       "      <th>Triple_Redup</th>\n",
       "      <th>Quad_Redup</th>\n",
       "      <th>Num_Syllables</th>\n",
       "      <th>Year</th>\n",
       "      <th>Round</th>\n",
       "      <th>Times_Used</th>\n",
       "      <th>Years_Since_Last_Used</th>\n",
       "      <th>Error</th>\n",
       "      <th>...</th>\n",
       "      <th>lang_Sanskrit</th>\n",
       "      <th>lang_Semitic</th>\n",
       "      <th>lang_Sino-Tibetan</th>\n",
       "      <th>lang_Spanish</th>\n",
       "      <th>lang_Tupian</th>\n",
       "      <th>lang_Turkic</th>\n",
       "      <th>lang_Unknown</th>\n",
       "      <th>lang_Uralic</th>\n",
       "      <th>lang_Uto-Aztecan</th>\n",
       "      <th>lang_Wakashan</th>\n",
       "    </tr>\n",
       "  </thead>\n",
       "  <tbody>\n",
       "    <tr>\n",
       "      <th>Error</th>\n",
       "      <td>0.023164</td>\n",
       "      <td>0.006799</td>\n",
       "      <td>0.018361</td>\n",
       "      <td>-0.018493</td>\n",
       "      <td>0.028150</td>\n",
       "      <td>-0.174374</td>\n",
       "      <td>0.034961</td>\n",
       "      <td>-0.105268</td>\n",
       "      <td>-0.074916</td>\n",
       "      <td>1.000000</td>\n",
       "      <td>...</td>\n",
       "      <td>-0.000344</td>\n",
       "      <td>-0.009349</td>\n",
       "      <td>0.008830</td>\n",
       "      <td>0.007886</td>\n",
       "      <td>0.007761</td>\n",
       "      <td>-0.003635</td>\n",
       "      <td>0.013460</td>\n",
       "      <td>-0.009654</td>\n",
       "      <td>-0.011148</td>\n",
       "      <td>0.016548</td>\n",
       "    </tr>\n",
       "    <tr>\n",
       "      <th>Round</th>\n",
       "      <td>0.026725</td>\n",
       "      <td>0.012175</td>\n",
       "      <td>-0.005826</td>\n",
       "      <td>-0.009646</td>\n",
       "      <td>0.005539</td>\n",
       "      <td>0.126289</td>\n",
       "      <td>1.000000</td>\n",
       "      <td>-0.126610</td>\n",
       "      <td>-0.057300</td>\n",
       "      <td>0.034961</td>\n",
       "      <td>...</td>\n",
       "      <td>0.015778</td>\n",
       "      <td>0.028779</td>\n",
       "      <td>0.000331</td>\n",
       "      <td>0.006781</td>\n",
       "      <td>-0.002108</td>\n",
       "      <td>-0.003730</td>\n",
       "      <td>-0.004044</td>\n",
       "      <td>0.033405</td>\n",
       "      <td>0.011044</td>\n",
       "      <td>0.001626</td>\n",
       "    </tr>\n",
       "    <tr>\n",
       "      <th>Num_Syllables</th>\n",
       "      <td>-0.015670</td>\n",
       "      <td>0.042702</td>\n",
       "      <td>0.021602</td>\n",
       "      <td>0.024240</td>\n",
       "      <td>1.000000</td>\n",
       "      <td>-0.051258</td>\n",
       "      <td>0.005539</td>\n",
       "      <td>-0.024411</td>\n",
       "      <td>0.024742</td>\n",
       "      <td>0.028150</td>\n",
       "      <td>...</td>\n",
       "      <td>-0.044173</td>\n",
       "      <td>-0.029701</td>\n",
       "      <td>-0.049908</td>\n",
       "      <td>0.033503</td>\n",
       "      <td>-0.008455</td>\n",
       "      <td>-0.031664</td>\n",
       "      <td>0.054111</td>\n",
       "      <td>-0.007446</td>\n",
       "      <td>-0.011958</td>\n",
       "      <td>-0.011016</td>\n",
       "    </tr>\n",
       "    <tr>\n",
       "      <th>Single_Redup</th>\n",
       "      <td>1.000000</td>\n",
       "      <td>-0.003688</td>\n",
       "      <td>-0.003336</td>\n",
       "      <td>0.012852</td>\n",
       "      <td>-0.015670</td>\n",
       "      <td>0.016229</td>\n",
       "      <td>0.026725</td>\n",
       "      <td>0.029995</td>\n",
       "      <td>0.010910</td>\n",
       "      <td>0.023164</td>\n",
       "      <td>...</td>\n",
       "      <td>-0.026739</td>\n",
       "      <td>0.001469</td>\n",
       "      <td>-0.009009</td>\n",
       "      <td>0.026200</td>\n",
       "      <td>0.010093</td>\n",
       "      <td>-0.015275</td>\n",
       "      <td>-0.013814</td>\n",
       "      <td>-0.008364</td>\n",
       "      <td>-0.009658</td>\n",
       "      <td>0.019101</td>\n",
       "    </tr>\n",
       "    <tr>\n",
       "      <th>pos_adverb</th>\n",
       "      <td>0.002404</td>\n",
       "      <td>-0.009817</td>\n",
       "      <td>-0.005014</td>\n",
       "      <td>0.032295</td>\n",
       "      <td>0.040874</td>\n",
       "      <td>-0.017216</td>\n",
       "      <td>0.018460</td>\n",
       "      <td>-0.023999</td>\n",
       "      <td>-0.008373</td>\n",
       "      <td>0.020773</td>\n",
       "      <td>...</td>\n",
       "      <td>-0.006430</td>\n",
       "      <td>-0.002405</td>\n",
       "      <td>-0.003930</td>\n",
       "      <td>-0.015263</td>\n",
       "      <td>-0.001133</td>\n",
       "      <td>-0.002535</td>\n",
       "      <td>0.020059</td>\n",
       "      <td>-0.001388</td>\n",
       "      <td>-0.001603</td>\n",
       "      <td>-0.000801</td>\n",
       "    </tr>\n",
       "  </tbody>\n",
       "</table>\n",
       "<p>5 rows × 64 columns</p>\n",
       "</div>"
      ],
      "text/plain": [
       "               Single_Redup  Double_Redup  Triple_Redup  Quad_Redup  \\\n",
       "Error              0.023164      0.006799      0.018361   -0.018493   \n",
       "Round              0.026725      0.012175     -0.005826   -0.009646   \n",
       "Num_Syllables     -0.015670      0.042702      0.021602    0.024240   \n",
       "Single_Redup       1.000000     -0.003688     -0.003336    0.012852   \n",
       "pos_adverb         0.002404     -0.009817     -0.005014    0.032295   \n",
       "\n",
       "               Num_Syllables      Year     Round  Times_Used  \\\n",
       "Error               0.028150 -0.174374  0.034961   -0.105268   \n",
       "Round               0.005539  0.126289  1.000000   -0.126610   \n",
       "Num_Syllables       1.000000 -0.051258  0.005539   -0.024411   \n",
       "Single_Redup       -0.015670  0.016229  0.026725    0.029995   \n",
       "pos_adverb          0.040874 -0.017216  0.018460   -0.023999   \n",
       "\n",
       "               Years_Since_Last_Used     Error      ...        lang_Sanskrit  \\\n",
       "Error                      -0.074916  1.000000      ...            -0.000344   \n",
       "Round                      -0.057300  0.034961      ...             0.015778   \n",
       "Num_Syllables               0.024742  0.028150      ...            -0.044173   \n",
       "Single_Redup                0.010910  0.023164      ...            -0.026739   \n",
       "pos_adverb                 -0.008373  0.020773      ...            -0.006430   \n",
       "\n",
       "               lang_Semitic  lang_Sino-Tibetan  lang_Spanish  lang_Tupian  \\\n",
       "Error             -0.009349           0.008830      0.007886     0.007761   \n",
       "Round              0.028779           0.000331      0.006781    -0.002108   \n",
       "Num_Syllables     -0.029701          -0.049908      0.033503    -0.008455   \n",
       "Single_Redup       0.001469          -0.009009      0.026200     0.010093   \n",
       "pos_adverb        -0.002405          -0.003930     -0.015263    -0.001133   \n",
       "\n",
       "               lang_Turkic  lang_Unknown  lang_Uralic  lang_Uto-Aztecan  \\\n",
       "Error            -0.003635      0.013460    -0.009654         -0.011148   \n",
       "Round            -0.003730     -0.004044     0.033405          0.011044   \n",
       "Num_Syllables    -0.031664      0.054111    -0.007446         -0.011958   \n",
       "Single_Redup     -0.015275     -0.013814    -0.008364         -0.009658   \n",
       "pos_adverb       -0.002535      0.020059    -0.001388         -0.001603   \n",
       "\n",
       "               lang_Wakashan  \n",
       "Error               0.016548  \n",
       "Round               0.001626  \n",
       "Num_Syllables      -0.011016  \n",
       "Single_Redup        0.019101  \n",
       "pos_adverb         -0.000801  \n",
       "\n",
       "[5 rows x 64 columns]"
      ]
     },
     "execution_count": 25,
     "metadata": {},
     "output_type": "execute_result"
    }
   ],
   "source": [
    "data.corr().sort_values('Error', ascending=False).head()"
   ]
  },
  {
   "cell_type": "code",
   "execution_count": 26,
   "metadata": {
    "collapsed": false
   },
   "outputs": [
    {
     "data": {
      "text/html": [
       "<div>\n",
       "<table border=\"1\" class=\"dataframe\">\n",
       "  <thead>\n",
       "    <tr style=\"text-align: right;\">\n",
       "      <th></th>\n",
       "      <th>Single_Redup</th>\n",
       "      <th>Double_Redup</th>\n",
       "      <th>Triple_Redup</th>\n",
       "      <th>Quad_Redup</th>\n",
       "      <th>Num_Syllables</th>\n",
       "      <th>Year</th>\n",
       "      <th>Round</th>\n",
       "      <th>Times_Used</th>\n",
       "      <th>Years_Since_Last_Used</th>\n",
       "      <th>Error</th>\n",
       "      <th>...</th>\n",
       "      <th>lang_Sanskrit</th>\n",
       "      <th>lang_Semitic</th>\n",
       "      <th>lang_Sino-Tibetan</th>\n",
       "      <th>lang_Spanish</th>\n",
       "      <th>lang_Tupian</th>\n",
       "      <th>lang_Turkic</th>\n",
       "      <th>lang_Unknown</th>\n",
       "      <th>lang_Uralic</th>\n",
       "      <th>lang_Uto-Aztecan</th>\n",
       "      <th>lang_Wakashan</th>\n",
       "    </tr>\n",
       "  </thead>\n",
       "  <tbody>\n",
       "    <tr>\n",
       "      <th>lang_Japanese</th>\n",
       "      <td>-0.034523</td>\n",
       "      <td>0.027825</td>\n",
       "      <td>-0.006994</td>\n",
       "      <td>-0.003710</td>\n",
       "      <td>-0.034135</td>\n",
       "      <td>0.049408</td>\n",
       "      <td>-0.002438</td>\n",
       "      <td>0.015486</td>\n",
       "      <td>-0.001392</td>\n",
       "      <td>-0.030572</td>\n",
       "      <td>...</td>\n",
       "      <td>-0.008970</td>\n",
       "      <td>-0.003355</td>\n",
       "      <td>-0.005483</td>\n",
       "      <td>-0.021292</td>\n",
       "      <td>-0.001581</td>\n",
       "      <td>-0.003537</td>\n",
       "      <td>-0.016557</td>\n",
       "      <td>-0.001937</td>\n",
       "      <td>-0.002236</td>\n",
       "      <td>-0.001118</td>\n",
       "    </tr>\n",
       "    <tr>\n",
       "      <th>lang_Middle English</th>\n",
       "      <td>-0.019962</td>\n",
       "      <td>-0.006515</td>\n",
       "      <td>-0.010025</td>\n",
       "      <td>-0.012519</td>\n",
       "      <td>-0.130268</td>\n",
       "      <td>-0.062654</td>\n",
       "      <td>-0.088325</td>\n",
       "      <td>-0.060188</td>\n",
       "      <td>-0.006152</td>\n",
       "      <td>-0.037640</td>\n",
       "      <td>...</td>\n",
       "      <td>-0.030272</td>\n",
       "      <td>-0.011323</td>\n",
       "      <td>-0.018503</td>\n",
       "      <td>-0.071856</td>\n",
       "      <td>-0.005336</td>\n",
       "      <td>-0.011936</td>\n",
       "      <td>-0.055877</td>\n",
       "      <td>-0.006536</td>\n",
       "      <td>-0.007547</td>\n",
       "      <td>-0.003773</td>\n",
       "    </tr>\n",
       "    <tr>\n",
       "      <th>Years_Since_Last_Used</th>\n",
       "      <td>0.010910</td>\n",
       "      <td>0.013725</td>\n",
       "      <td>0.007903</td>\n",
       "      <td>-0.013162</td>\n",
       "      <td>0.024742</td>\n",
       "      <td>0.394754</td>\n",
       "      <td>-0.057300</td>\n",
       "      <td>0.408115</td>\n",
       "      <td>1.000000</td>\n",
       "      <td>-0.074916</td>\n",
       "      <td>...</td>\n",
       "      <td>-0.009136</td>\n",
       "      <td>-0.013252</td>\n",
       "      <td>-0.000939</td>\n",
       "      <td>-0.005774</td>\n",
       "      <td>-0.007716</td>\n",
       "      <td>-0.006157</td>\n",
       "      <td>0.022449</td>\n",
       "      <td>-0.009450</td>\n",
       "      <td>-0.010912</td>\n",
       "      <td>-0.005455</td>\n",
       "    </tr>\n",
       "    <tr>\n",
       "      <th>Times_Used</th>\n",
       "      <td>0.029995</td>\n",
       "      <td>0.010030</td>\n",
       "      <td>0.006015</td>\n",
       "      <td>0.000658</td>\n",
       "      <td>-0.024411</td>\n",
       "      <td>0.393536</td>\n",
       "      <td>-0.126610</td>\n",
       "      <td>1.000000</td>\n",
       "      <td>0.408115</td>\n",
       "      <td>-0.105268</td>\n",
       "      <td>...</td>\n",
       "      <td>0.018331</td>\n",
       "      <td>-0.014153</td>\n",
       "      <td>-0.011020</td>\n",
       "      <td>0.032018</td>\n",
       "      <td>-0.008140</td>\n",
       "      <td>-0.006369</td>\n",
       "      <td>-0.021437</td>\n",
       "      <td>-0.009970</td>\n",
       "      <td>-0.011513</td>\n",
       "      <td>-0.005756</td>\n",
       "    </tr>\n",
       "    <tr>\n",
       "      <th>Year</th>\n",
       "      <td>0.016229</td>\n",
       "      <td>0.016311</td>\n",
       "      <td>0.003546</td>\n",
       "      <td>0.016117</td>\n",
       "      <td>-0.051258</td>\n",
       "      <td>1.000000</td>\n",
       "      <td>0.126289</td>\n",
       "      <td>0.393536</td>\n",
       "      <td>0.394754</td>\n",
       "      <td>-0.174374</td>\n",
       "      <td>...</td>\n",
       "      <td>0.037221</td>\n",
       "      <td>0.010408</td>\n",
       "      <td>0.013221</td>\n",
       "      <td>0.034533</td>\n",
       "      <td>-0.000843</td>\n",
       "      <td>0.025886</td>\n",
       "      <td>-0.073833</td>\n",
       "      <td>0.008260</td>\n",
       "      <td>0.017099</td>\n",
       "      <td>0.014035</td>\n",
       "    </tr>\n",
       "  </tbody>\n",
       "</table>\n",
       "<p>5 rows × 64 columns</p>\n",
       "</div>"
      ],
      "text/plain": [
       "                       Single_Redup  Double_Redup  Triple_Redup  Quad_Redup  \\\n",
       "lang_Japanese             -0.034523      0.027825     -0.006994   -0.003710   \n",
       "lang_Middle English       -0.019962     -0.006515     -0.010025   -0.012519   \n",
       "Years_Since_Last_Used      0.010910      0.013725      0.007903   -0.013162   \n",
       "Times_Used                 0.029995      0.010030      0.006015    0.000658   \n",
       "Year                       0.016229      0.016311      0.003546    0.016117   \n",
       "\n",
       "                       Num_Syllables      Year     Round  Times_Used  \\\n",
       "lang_Japanese              -0.034135  0.049408 -0.002438    0.015486   \n",
       "lang_Middle English        -0.130268 -0.062654 -0.088325   -0.060188   \n",
       "Years_Since_Last_Used       0.024742  0.394754 -0.057300    0.408115   \n",
       "Times_Used                 -0.024411  0.393536 -0.126610    1.000000   \n",
       "Year                       -0.051258  1.000000  0.126289    0.393536   \n",
       "\n",
       "                       Years_Since_Last_Used     Error      ...        \\\n",
       "lang_Japanese                      -0.001392 -0.030572      ...         \n",
       "lang_Middle English                -0.006152 -0.037640      ...         \n",
       "Years_Since_Last_Used               1.000000 -0.074916      ...         \n",
       "Times_Used                          0.408115 -0.105268      ...         \n",
       "Year                                0.394754 -0.174374      ...         \n",
       "\n",
       "                       lang_Sanskrit  lang_Semitic  lang_Sino-Tibetan  \\\n",
       "lang_Japanese              -0.008970     -0.003355          -0.005483   \n",
       "lang_Middle English        -0.030272     -0.011323          -0.018503   \n",
       "Years_Since_Last_Used      -0.009136     -0.013252          -0.000939   \n",
       "Times_Used                  0.018331     -0.014153          -0.011020   \n",
       "Year                        0.037221      0.010408           0.013221   \n",
       "\n",
       "                       lang_Spanish  lang_Tupian  lang_Turkic  lang_Unknown  \\\n",
       "lang_Japanese             -0.021292    -0.001581    -0.003537     -0.016557   \n",
       "lang_Middle English       -0.071856    -0.005336    -0.011936     -0.055877   \n",
       "Years_Since_Last_Used     -0.005774    -0.007716    -0.006157      0.022449   \n",
       "Times_Used                 0.032018    -0.008140    -0.006369     -0.021437   \n",
       "Year                       0.034533    -0.000843     0.025886     -0.073833   \n",
       "\n",
       "                       lang_Uralic  lang_Uto-Aztecan  lang_Wakashan  \n",
       "lang_Japanese            -0.001937         -0.002236      -0.001118  \n",
       "lang_Middle English      -0.006536         -0.007547      -0.003773  \n",
       "Years_Since_Last_Used    -0.009450         -0.010912      -0.005455  \n",
       "Times_Used               -0.009970         -0.011513      -0.005756  \n",
       "Year                      0.008260          0.017099       0.014035  \n",
       "\n",
       "[5 rows x 64 columns]"
      ]
     },
     "execution_count": 26,
     "metadata": {},
     "output_type": "execute_result"
    }
   ],
   "source": [
    "data.corr().sort_values('Error', ascending=False).tail()"
   ]
  },
  {
   "cell_type": "code",
   "execution_count": 12,
   "metadata": {
    "collapsed": false
   },
   "outputs": [
    {
     "data": {
      "text/html": [
       "<div>\n",
       "<table border=\"1\" class=\"dataframe\">\n",
       "  <thead>\n",
       "    <tr style=\"text-align: right;\">\n",
       "      <th></th>\n",
       "      <th>Times_Used</th>\n",
       "      <th>Years_Since_Last_Used</th>\n",
       "      <th>Round</th>\n",
       "    </tr>\n",
       "  </thead>\n",
       "  <tbody>\n",
       "    <tr>\n",
       "      <th>Single_Redup</th>\n",
       "      <td>0.029995</td>\n",
       "      <td>0.010910</td>\n",
       "      <td>0.026725</td>\n",
       "    </tr>\n",
       "    <tr>\n",
       "      <th>Double_Redup</th>\n",
       "      <td>0.010030</td>\n",
       "      <td>0.013725</td>\n",
       "      <td>0.012175</td>\n",
       "    </tr>\n",
       "    <tr>\n",
       "      <th>Triple_Redup</th>\n",
       "      <td>0.006015</td>\n",
       "      <td>0.007903</td>\n",
       "      <td>-0.005826</td>\n",
       "    </tr>\n",
       "    <tr>\n",
       "      <th>Quad_Redup</th>\n",
       "      <td>0.000658</td>\n",
       "      <td>-0.013162</td>\n",
       "      <td>-0.009646</td>\n",
       "    </tr>\n",
       "    <tr>\n",
       "      <th>Num_Syllables</th>\n",
       "      <td>-0.024411</td>\n",
       "      <td>0.024742</td>\n",
       "      <td>0.005539</td>\n",
       "    </tr>\n",
       "    <tr>\n",
       "      <th>Year</th>\n",
       "      <td>0.393536</td>\n",
       "      <td>0.394754</td>\n",
       "      <td>0.126289</td>\n",
       "    </tr>\n",
       "    <tr>\n",
       "      <th>Round</th>\n",
       "      <td>-0.126610</td>\n",
       "      <td>-0.057300</td>\n",
       "      <td>1.000000</td>\n",
       "    </tr>\n",
       "    <tr>\n",
       "      <th>Times_Used</th>\n",
       "      <td>1.000000</td>\n",
       "      <td>0.408115</td>\n",
       "      <td>-0.126610</td>\n",
       "    </tr>\n",
       "    <tr>\n",
       "      <th>Years_Since_Last_Used</th>\n",
       "      <td>0.408115</td>\n",
       "      <td>1.000000</td>\n",
       "      <td>-0.057300</td>\n",
       "    </tr>\n",
       "    <tr>\n",
       "      <th>Error</th>\n",
       "      <td>-0.105268</td>\n",
       "      <td>-0.074916</td>\n",
       "      <td>0.034961</td>\n",
       "    </tr>\n",
       "  </tbody>\n",
       "</table>\n",
       "</div>"
      ],
      "text/plain": [
       "                       Times_Used  Years_Since_Last_Used     Round\n",
       "Single_Redup             0.029995               0.010910  0.026725\n",
       "Double_Redup             0.010030               0.013725  0.012175\n",
       "Triple_Redup             0.006015               0.007903 -0.005826\n",
       "Quad_Redup               0.000658              -0.013162 -0.009646\n",
       "Num_Syllables           -0.024411               0.024742  0.005539\n",
       "Year                     0.393536               0.394754  0.126289\n",
       "Round                   -0.126610              -0.057300  1.000000\n",
       "Times_Used               1.000000               0.408115 -0.126610\n",
       "Years_Since_Last_Used    0.408115               1.000000 -0.057300\n",
       "Error                   -0.105268              -0.074916  0.034961"
      ]
     },
     "execution_count": 12,
     "metadata": {},
     "output_type": "execute_result"
    }
   ],
   "source": [
    "data.corr()[['Times_Used', 'Years_Since_Last_Used', 'Round']]"
   ]
  },
  {
   "cell_type": "markdown",
   "metadata": {},
   "source": [
    "## Next Steps\n",
    "\n",
    "- Bring in remaining data points\n",
    "- Determine further adjustments for Language data\n",
    "- Check features further for collinearity\n",
    "- Build supervised binary classification model!"
   ]
  }
 ],
 "metadata": {
  "kernelspec": {
   "display_name": "Python 2",
   "language": "python",
   "name": "python2"
  },
  "language_info": {
   "codemirror_mode": {
    "name": "ipython",
    "version": 2
   },
   "file_extension": ".py",
   "mimetype": "text/x-python",
   "name": "python",
   "nbconvert_exporter": "python",
   "pygments_lexer": "ipython2",
   "version": "2.7.13"
  }
 },
 "nbformat": 4,
 "nbformat_minor": 2
}
