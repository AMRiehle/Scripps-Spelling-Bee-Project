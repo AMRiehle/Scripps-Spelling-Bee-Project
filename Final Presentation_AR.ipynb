{
 "cells": [
  {
   "cell_type": "markdown",
   "metadata": {},
   "source": [
    "# Spelling Errors at the Scripps National Spelling Bee"
   ]
  },
  {
   "cell_type": "markdown",
   "metadata": {},
   "source": [
    "## Objective\n",
    "\n",
    "To predict whether a selected word will result in a spelling error at the Scripps National Spelling Bee based on 1996-2017 spelling bee data"
   ]
  },
  {
   "cell_type": "markdown",
   "metadata": {},
   "source": [
    "## Import Libraries and Read In Data"
   ]
  },
  {
   "cell_type": "code",
   "execution_count": 3,
   "metadata": {
    "collapsed": true
   },
   "outputs": [],
   "source": [
    "#General Imports\n",
    "import pandas as pd\n",
    "import numpy as np\n",
    "from sklearn import metrics\n",
    "import matplotlib.pyplot as plt\n",
    "%matplotlib inline\n",
    "import seaborn as sns\n",
    "from scipy.stats import chi2_contingency"
   ]
  },
  {
   "cell_type": "code",
   "execution_count": 4,
   "metadata": {
    "collapsed": false
   },
   "outputs": [],
   "source": [
    "#Read In Data\n",
    "data = pd.read_csv('Data2_AR.csv')\n",
    "data.drop([col for col in data.columns if \"Unnamed\" in col], axis=1, inplace=True)"
   ]
  },
  {
   "cell_type": "markdown",
   "metadata": {},
   "source": [
    "## General Overview of Data"
   ]
  },
  {
   "cell_type": "code",
   "execution_count": 22,
   "metadata": {
    "collapsed": false
   },
   "outputs": [
    {
     "data": {
      "text/plain": [
       "(14672, 11)"
      ]
     },
     "execution_count": 22,
     "metadata": {},
     "output_type": "execute_result"
    }
   ],
   "source": [
    "data.shape"
   ]
  },
  {
   "cell_type": "code",
   "execution_count": 4,
   "metadata": {
    "collapsed": false
   },
   "outputs": [
    {
     "data": {
      "text/plain": [
       "Word                     object\n",
       "Year                      int64\n",
       "Round                     int64\n",
       "Part_of_Speech           object\n",
       "Language                 object\n",
       "Times_Used                int64\n",
       "Years_Since_Last_Used     int64\n",
       "Num_Syllables             int64\n",
       "Word_Length               int64\n",
       "Reduplication             int64\n",
       "Error                     int64\n",
       "dtype: object"
      ]
     },
     "execution_count": 4,
     "metadata": {},
     "output_type": "execute_result"
    }
   ],
   "source": [
    "data.dtypes"
   ]
  },
  {
   "cell_type": "markdown",
   "metadata": {},
   "source": [
    "## Data Sources\n",
    "\n",
    "I collected data from the following sources:\n",
    "\n",
    "**Primary Data Set:** https://github.com/octonion/spelling\n",
    "\n",
    "**Data for Missing Years:** \n",
    "- https://secure.spellingbee.com/public/results/2012/round_results\n",
    "- https://secure.spellingbee.com/public/results/2013/round_results\n",
    "- https://secure.spellingbee.com/public/results/2014/round_results\n",
    "\n",
    "**Etymological, Part of Speech, and Syllabification Data:** https://www.merriam-webster.com/\n",
    "\n",
    "**Additional Etymological Data:** \n",
    "\n",
    "- http://www.etymonline.com/\n",
    "- http://www.wiktionary.com"
   ]
  },
  {
   "cell_type": "markdown",
   "metadata": {},
   "source": [
    "## Creation of Dummy Variables"
   ]
  },
  {
   "cell_type": "code",
   "execution_count": 7,
   "metadata": {
    "collapsed": false
   },
   "outputs": [],
   "source": [
    "#Create Part of Speech Dummy Variables\n",
    "pos_dum = pd.get_dummies(data.Part_of_Speech, prefix='pos')\n",
    "\n",
    "pos_dum.drop('pos_noun', axis=1, inplace=True)\n",
    "\n",
    "data = pd.concat([data, pos_dum], axis=1)"
   ]
  },
  {
   "cell_type": "code",
   "execution_count": 8,
   "metadata": {
    "collapsed": true
   },
   "outputs": [],
   "source": [
    "#Create Language Dummy Variables\n",
    "lang_dum = pd.get_dummies(data.Language, prefix='lang')\n",
    "\n",
    "lang_dum.drop('lang_Latin or Greek', axis=1, inplace=True)\n",
    "\n",
    "data = pd.concat([data, lang_dum], axis=1)"
   ]
  },
  {
   "cell_type": "markdown",
   "metadata": {},
   "source": [
    "## Feature Selection"
   ]
  },
  {
   "cell_type": "code",
   "execution_count": 9,
   "metadata": {
    "collapsed": true
   },
   "outputs": [],
   "source": [
    "from sklearn.feature_selection import VarianceThreshold\n",
    "from sklearn.feature_selection import SelectKBest\n",
    "from sklearn.feature_selection import chi2\n",
    "from sklearn.feature_selection import SelectFdr\n",
    "from sklearn.linear_model import Lasso\n",
    "from sklearn.ensemble import RandomForestClassifier\n",
    "from sklearn.metrics import accuracy_score"
   ]
  },
  {
   "cell_type": "code",
   "execution_count": 10,
   "metadata": {
    "collapsed": true
   },
   "outputs": [],
   "source": [
    "feature_cols = ['Round', 'Times_Used', 'Years_Since_Last_Used', 'Reduplication', 'Num_Syllables', 'Word_Length', 'pos_adjective', 'pos_verb', 'pos_other', 'lang_Germanic', 'lang_Western European', 'lang_Other']\n",
    "X = data[feature_cols]\n",
    "y = data.Error"
   ]
  },
  {
   "cell_type": "markdown",
   "metadata": {},
   "source": [
    "### Univariate Feature Selection"
   ]
  },
  {
   "cell_type": "code",
   "execution_count": 12,
   "metadata": {
    "collapsed": false
   },
   "outputs": [
    {
     "data": {
      "text/plain": [
       "<matplotlib.axes._subplots.AxesSubplot at 0x1127a3a50>"
      ]
     },
     "execution_count": 12,
     "metadata": {},
     "output_type": "execute_result"
    },
    {
     "data": {
      "image/png": "[encoded data removed]",
      "text/plain": [
       "<matplotlib.figure.Figure at 0x1127a3f90>"
      ]
     },
     "metadata": {},
     "output_type": "display_data"
    }
   ],
   "source": [
    "sns.heatmap(data.corr())"
   ]
  },
  {
   "cell_type": "markdown",
   "metadata": {},
   "source": [
    "**What is univariate feature selection?**\n",
    "\n",
    "\n",
    "Univariate feature selection methods, such as correlation matrices, work with each feature individually, often exploring interactions between individual features and the target variable, rather than examining the data set as a whole. Types of univariate feature selection that I used include correlation matrices, lasso, K best selection, and chi2 selection. Each of these methods found the same features to be the most important, as detailed below.\n",
    "\n",
    "**Important Features:**\n",
    "- Round\n",
    "- Times Used\n",
    "- Years Since Last Used\n",
    "- Reduplication\n",
    "- Language of Origin"
   ]
  },
  {
   "cell_type": "markdown",
   "metadata": {},
   "source": [
    "### Feature Importance Using Random Forest"
   ]
  },
  {
   "cell_type": "code",
   "execution_count": 209,
   "metadata": {
    "collapsed": false
   },
   "outputs": [
    {
     "data": {
      "text/plain": [
       "<matplotlib.axes._subplots.AxesSubplot at 0x10ef92510>"
      ]
     },
     "execution_count": 209,
     "metadata": {},
     "output_type": "execute_result"
    },
    {
     "data": {
      "image/png": "[encoded data removed]",
      "text/plain": [
       "<matplotlib.figure.Figure at 0x10ef92cd0>"
      ]
     },
     "metadata": {},
     "output_type": "display_data"
    }
   ],
   "source": [
    "rf = RandomForestClassifier()\n",
    "rf.fit(X,y)\n",
    "feature_importances = rf.feature_importances_\n",
    "features_df = pd.DataFrame({'Features': feature_cols, 'Importance Score': feature_importances})\n",
    "features_df.sort_values('Importance Score', inplace=True, ascending=False)\n",
    "\n",
    "sns.barplot(y='Features', x='Importance Score', data=features_df)"
   ]
  },
  {
   "cell_type": "markdown",
   "metadata": {},
   "source": [
    "**How is feature importance different from univariate feature selection?**\n",
    "\n",
    "Unlike univariate feature selection, feature importance in random forests looks at several features and examines how they interact with each other as well as with the target variable. As noted below, the features identified by random forest as being most important were similar but not identical to those selected via univariate feature selection.\n",
    "\n",
    "**Important Features:**\n",
    "- Round\n",
    "- Times Used\n",
    "- Years Since Last Used\n",
    "- Word Length\n",
    "- Number of Syllables"
   ]
  },
  {
   "cell_type": "markdown",
   "metadata": {},
   "source": [
    "## Error Rate"
   ]
  },
  {
   "cell_type": "code",
   "execution_count": 75,
   "metadata": {
    "collapsed": false
   },
   "outputs": [
    {
     "data": {
      "text/plain": [
       "<matplotlib.axes._subplots.AxesSubplot at 0x11dc69c50>"
      ]
     },
     "execution_count": 75,
     "metadata": {},
     "output_type": "execute_result"
    },
    {
     "data": {
      "image/png": "[encoded data removed]",
      "text/plain": [
       "<matplotlib.figure.Figure at 0x11dc69950>"
      ]
     },
     "metadata": {},
     "output_type": "display_data"
    }
   ],
   "source": [
    "data.Error.hist(bins=[0,1,2])"
   ]
  },
  {
   "cell_type": "code",
   "execution_count": 18,
   "metadata": {
    "collapsed": false
   },
   "outputs": [
    {
     "data": {
      "text/plain": [
       "0    0.751636\n",
       "1    0.248364\n",
       "Name: Error, dtype: float64"
      ]
     },
     "execution_count": 18,
     "metadata": {},
     "output_type": "execute_result"
    }
   ],
   "source": [
    "data.Error.value_counts(normalize=True)"
   ]
  },
  {
   "cell_type": "markdown",
   "metadata": {},
   "source": [
    "## Classification Models"
   ]
  },
  {
   "cell_type": "code",
   "execution_count": null,
   "metadata": {
    "collapsed": true
   },
   "outputs": [],
   "source": [
    "from sklearn.model_selection import cross_val_score\n",
    "from sklearn.neighbors import KNeighborsClassifier\n",
    "from sklearn.linear_model import LogisticRegression\n",
    "from sklearn.tree import DecisionTreeClassifier\n",
    "from sklearn.ensemble import RandomForestClassifier"
   ]
  },
  {
   "cell_type": "markdown",
   "metadata": {},
   "source": [
    "### K Nearest Neighbors (KNN)"
   ]
  },
  {
   "cell_type": "code",
   "execution_count": 641,
   "metadata": {
    "collapsed": false
   },
   "outputs": [
    {
     "data": {
      "text/plain": [
       "0.75163585283230527"
      ]
     },
     "execution_count": 641,
     "metadata": {},
     "output_type": "execute_result"
    }
   ],
   "source": [
    "feature_cols = ['Round', 'Years_Since_Last_Used', 'Times_Used', 'Reduplication', 'lang_Germanic']\n",
    "X = data[feature_cols]\n",
    "y = data.Error\n",
    "knn = KNeighborsClassifier(n_neighbors = 251)\n",
    "scores = cross_val_score(knn, X, y, cv=10)\n",
    "scores.mean()"
   ]
  },
  {
   "cell_type": "code",
   "execution_count": 673,
   "metadata": {
    "collapsed": false
   },
   "outputs": [
    {
     "data": {
      "text/plain": [
       "0.75163585283230527"
      ]
     },
     "execution_count": 673,
     "metadata": {},
     "output_type": "execute_result"
    }
   ],
   "source": [
    "feature_cols = ['Round', 'Years_Since_Last_Used', 'Times_Used', 'Word_Length']\n",
    "X = data[feature_cols]\n",
    "y = data.Error\n",
    "knn = KNeighborsClassifier(n_neighbors = 251)\n",
    "scores = cross_val_score(knn, X, y, cv=10)\n",
    "scores.mean()"
   ]
  },
  {
   "cell_type": "markdown",
   "metadata": {},
   "source": [
    "**Distinctive Aspects of Algorithm:**\n",
    "\n",
    "- Based on feature similarity\n",
    "- Sensitive to scale of data\n",
    "- Sensitive to irrelevant features\n",
    "\n",
    "**Application:**\n",
    "\n",
    "For every option for each feature, more words are spelled correctly than are spelled incorrectly. Often, this difference is significant (>75% of words are spelled correctly). As such, KNN is likely to predict that a word will be spelled correctly regardless of which features are selected. The prediction accuracy with KNN matches the accuracy when all words are predicted to be spelled correctly."
   ]
  },
  {
   "cell_type": "markdown",
   "metadata": {},
   "source": [
    "### Logistic Regression"
   ]
  },
  {
   "cell_type": "code",
   "execution_count": 643,
   "metadata": {
    "collapsed": false
   },
   "outputs": [
    {
     "data": {
      "text/plain": [
       "0.75163585283230527"
      ]
     },
     "execution_count": 643,
     "metadata": {},
     "output_type": "execute_result"
    }
   ],
   "source": [
    "feature_cols = ['Round', 'Years_Since_Last_Used', 'Times_Used', 'Reduplication', 'lang_Germanic']\n",
    "X = data[feature_cols]\n",
    "y = data.Error\n",
    "logreg = LogisticRegression()\n",
    "scores = cross_val_score(logreg, X, y, cv=10)\n",
    "scores.mean()"
   ]
  },
  {
   "cell_type": "code",
   "execution_count": 772,
   "metadata": {
    "collapsed": false
   },
   "outputs": [
    {
     "data": {
      "text/plain": [
       "0.75163585283230527"
      ]
     },
     "execution_count": 772,
     "metadata": {},
     "output_type": "execute_result"
    }
   ],
   "source": [
    "feature_cols = ['Round', 'Years_Since_Last_Used', 'Times_Used', 'Word_Length']\n",
    "X = data[feature_cols]\n",
    "y = data.Error\n",
    "logreg = LogisticRegression()\n",
    "scores = cross_val_score(logreg, X, y, cv=10)\n",
    "scores.mean()"
   ]
  },
  {
   "cell_type": "markdown",
   "metadata": {},
   "source": [
    "**Distinctive Aspects of Algorithm:**\n",
    "\n",
    "- Requires linearly divisible features\n",
    "- Can't automatically learn feature interactions\n",
    "\n",
    "**Application:**\n",
    "\n",
    "Because distinct options within features resemble each other, features are not linearly divisible. The vast majority of words within each option are spelled correctly. The model is unable to make distinctions and therefore predicts each word as spelled correctly. The accuracy of the model matches the default accuracy when all words are predicted to be spelled correctly."
   ]
  },
  {
   "cell_type": "markdown",
   "metadata": {},
   "source": [
    "### Decision Trees"
   ]
  },
  {
   "cell_type": "code",
   "execution_count": 677,
   "metadata": {
    "collapsed": false
   },
   "outputs": [
    {
     "data": {
      "text/plain": [
       "0.75184016600715398"
      ]
     },
     "execution_count": 677,
     "metadata": {},
     "output_type": "execute_result"
    }
   ],
   "source": [
    "feature_cols = ['Round', 'Times_Used', 'Years_Since_Last_Used', 'Reduplication', 'lang_Western European']\n",
    "X = data[feature_cols]\n",
    "y = data.Error\n",
    "dt = DecisionTreeClassifier(max_depth=6)\n",
    "scores = cross_val_score(dt, X, y, cv=10)\n",
    "scores.mean()"
   ]
  },
  {
   "cell_type": "code",
   "execution_count": 770,
   "metadata": {
    "collapsed": false
   },
   "outputs": [
    {
     "data": {
      "text/plain": [
       "0.75170406565631631"
      ]
     },
     "execution_count": 770,
     "metadata": {},
     "output_type": "execute_result"
    }
   ],
   "source": [
    "feature_cols = ['Word_Length', 'Years_Since_Last_Used', 'Round', 'Times_Used']\n",
    "X = data[feature_cols]\n",
    "y = data.Error\n",
    "dt = DecisionTreeClassifier(max_depth=4)\n",
    "scores = cross_val_score(dt, X, y, cv=10)\n",
    "scores.mean()"
   ]
  },
  {
   "cell_type": "markdown",
   "metadata": {},
   "source": [
    "### Random Forest"
   ]
  },
  {
   "cell_type": "code",
   "execution_count": 752,
   "metadata": {
    "collapsed": false
   },
   "outputs": [
    {
     "data": {
      "text/plain": [
       "0.75204466504800815"
      ]
     },
     "execution_count": 752,
     "metadata": {},
     "output_type": "execute_result"
    }
   ],
   "source": [
    "feature_cols = ['Round', 'Times_Used', 'Years_Since_Last_Used', 'Reduplication', 'lang_Western European']\n",
    "X = data[feature_cols]\n",
    "y = data.Error\n",
    "rf = RandomForestClassifier(max_depth=7, min_samples_leaf=40, oob_score=True)\n",
    "scores = cross_val_score(rf, X, y, cv=10)\n",
    "scores.mean()"
   ]
  },
  {
   "cell_type": "code",
   "execution_count": 759,
   "metadata": {
    "collapsed": false
   },
   "outputs": [
    {
     "data": {
      "text/plain": [
       "0.75184035180981046"
      ]
     },
     "execution_count": 759,
     "metadata": {},
     "output_type": "execute_result"
    }
   ],
   "source": [
    "feature_cols = ['Round', 'Times_Used', 'Years_Since_Last_Used', 'Word_Length']\n",
    "X = data[feature_cols]\n",
    "y = data.Error\n",
    "rf = RandomForestClassifier(max_depth=7, min_samples_leaf=40, oob_score=True)\n",
    "scores = cross_val_score(rf, X, y, cv=10)\n",
    "scores.mean()"
   ]
  },
  {
   "cell_type": "markdown",
   "metadata": {},
   "source": [
    "**Distinctive Aspects of Algorithm:**\n",
    "\n",
    "- Non-parametric\n",
    "- Non-linear\n",
    "\n",
    "**Application:**\n",
    "\n",
    "Decision trees are ideal for working with otherwise seemingly unpredictable data, such as the Scripps Spelling Bee data. As a non-parametric algorithm, decision trees do not require the underlying data to be distributed or structured in any particular way. Unlike logistic regression, as a non-linear algorithm, decision trees do not rely on linearly divisible features. Additionally, decision trees are less sensitive than KNN. \n",
    "\n",
    "Unfortunately, decision trees are prone to over-fitting. This tendency is mitigated by limiting the depth of the trees and setting a value higher than 1 for the number of samples required to form a leaf. \n",
    "\n",
    "Interestingly, both decision trees and random forests made more accurate predictions with the features selected through univariate feature selection than through features selected by feature importance in random forests or by examining the variance threshold. This may be explained by the exploration of interactions between features and error rate done during univarite feature selection."
   ]
  },
  {
   "cell_type": "markdown",
   "metadata": {},
   "source": [
    "## Summary of Findings\n",
    "\n",
    "- Data is largely unpredictable. To the extent that it is predictable:\n",
    "    - Bee-Specific Features are of primary importance:\n",
    "        - Round\n",
    "        - Times Used\n",
    "        - Years Since Last Used\n",
    "    - Word-Specific Features are of secondary importance:\n",
    "        - Word Length\n",
    "        - Number of Syllables\n",
    "        - Reduplication\n",
    "        - Language of Origin\n",
    "        - Part of Speech"
   ]
  },
  {
   "cell_type": "markdown",
   "metadata": {},
   "source": [
    "## Ideas for Future Exploration\n",
    "\n",
    "- **Partial Reduplication:** Repetition of letters separated by distinct characters\n",
    "\n",
    "\n",
    "- **Speller-Specific Features:**\n",
    "    - Age\n",
    "    - Gender\n",
    "    - State\n",
    "    - Grade\n",
    "    - School Type"
   ]
  }
 ],
 "metadata": {
  "kernelspec": {
   "display_name": "Python 2",
   "language": "python",
   "name": "python2"
  },
  "language_info": {
   "codemirror_mode": {
    "name": "ipython",
    "version": 2
   },
   "file_extension": ".py",
   "mimetype": "text/x-python",
   "name": "python",
   "nbconvert_exporter": "python",
   "pygments_lexer": "ipython2",
   "version": "2.7.13"
  }
 },
 "nbformat": 4,
 "nbformat_minor": 2
}
